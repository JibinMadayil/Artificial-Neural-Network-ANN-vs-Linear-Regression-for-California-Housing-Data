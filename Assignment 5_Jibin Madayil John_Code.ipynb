{
 "cells": [
  {
   "cell_type": "code",
   "execution_count": 4,
   "id": "d0a9808f",
   "metadata": {},
   "outputs": [
    {
     "name": "stdout",
     "output_type": "stream",
     "text": [
      "             MedInc      HouseAge      AveRooms     AveBedrms    Population  \\\n",
      "count  20640.000000  20640.000000  20640.000000  20640.000000  20640.000000   \n",
      "mean       3.870671     28.639486      5.429000      1.096675   1425.476744   \n",
      "std        1.899822     12.585558      2.474173      0.473911   1132.462122   \n",
      "min        0.499900      1.000000      0.846154      0.333333      3.000000   \n",
      "25%        2.563400     18.000000      4.440716      1.006079    787.000000   \n",
      "50%        3.534800     29.000000      5.229129      1.048780   1166.000000   \n",
      "75%        4.743250     37.000000      6.052381      1.099526   1725.000000   \n",
      "max       15.000100     52.000000    141.909091     34.066667  35682.000000   \n",
      "\n",
      "           AveOccup      Latitude     Longitude        target  \n",
      "count  20640.000000  20640.000000  20640.000000  20640.000000  \n",
      "mean       3.070655     35.631861   -119.569704      2.068558  \n",
      "std       10.386050      2.135952      2.003532      1.153956  \n",
      "min        0.692308     32.540000   -124.350000      0.149990  \n",
      "25%        2.429741     33.930000   -121.800000      1.196000  \n",
      "50%        2.818116     34.260000   -118.490000      1.797000  \n",
      "75%        3.282261     37.710000   -118.010000      2.647250  \n",
      "max     1243.333333     41.950000   -114.310000      5.000010  \n",
      "<class 'pandas.core.frame.DataFrame'>\n",
      "RangeIndex: 20640 entries, 0 to 20639\n",
      "Data columns (total 9 columns):\n",
      " #   Column      Non-Null Count  Dtype  \n",
      "---  ------      --------------  -----  \n",
      " 0   MedInc      20640 non-null  float64\n",
      " 1   HouseAge    20640 non-null  float64\n",
      " 2   AveRooms    20640 non-null  float64\n",
      " 3   AveBedrms   20640 non-null  float64\n",
      " 4   Population  20640 non-null  float64\n",
      " 5   AveOccup    20640 non-null  float64\n",
      " 6   Latitude    20640 non-null  float64\n",
      " 7   Longitude   20640 non-null  float64\n",
      " 8   target      20640 non-null  float64\n",
      "dtypes: float64(9)\n",
      "memory usage: 1.4 MB\n",
      "None\n",
      "MedInc        0\n",
      "HouseAge      0\n",
      "AveRooms      0\n",
      "AveBedrms     0\n",
      "Population    0\n",
      "AveOccup      0\n",
      "Latitude      0\n",
      "Longitude     0\n",
      "target        0\n",
      "dtype: int64\n"
     ]
    }
   ],
   "source": [
    "import numpy as np\n",
    "import pandas as pd\n",
    "from sklearn.datasets import fetch_california_housing\n",
    "from sklearn.model_selection import train_test_split\n",
    "from sklearn.preprocessing import StandardScaler\n",
    "from sklearn.linear_model import LinearRegression\n",
    "from sklearn.metrics import mean_squared_error, r2_score\n",
    "from scipy import stats  # Import the stats module\n",
    "\n",
    "# Load California Housing dataset\n",
    "california_housing = fetch_california_housing()\n",
    "data = pd.DataFrame(data=np.c_[california_housing['data'], california_housing['target']], columns=california_housing['feature_names'] + ['target'])\n",
    "\n",
    "# Display basic statistics and information about the dataset\n",
    "print(data.describe())\n",
    "print(data.info())\n",
    "\n",
    "# Check for missing values\n",
    "print(data.isnull().sum())"
   ]
  },
  {
   "cell_type": "code",
   "execution_count": 12,
   "id": "68677ea1",
   "metadata": {},
   "outputs": [
    {
     "name": "stderr",
     "output_type": "stream",
     "text": [
      "C:\\ProgramData\\anaconda3\\lib\\site-packages\\sklearn\\utils\\validation.py:767: FutureWarning: is_sparse is deprecated and will be removed in a future version. Check `isinstance(dtype, pd.SparseDtype)` instead.\n",
      "  if not hasattr(array, \"sparse\") and array.dtypes.apply(is_sparse).any():\n",
      "C:\\ProgramData\\anaconda3\\lib\\site-packages\\sklearn\\utils\\validation.py:605: FutureWarning: is_sparse is deprecated and will be removed in a future version. Check `isinstance(dtype, pd.SparseDtype)` instead.\n",
      "  if is_sparse(pd_dtype):\n",
      "C:\\ProgramData\\anaconda3\\lib\\site-packages\\sklearn\\utils\\validation.py:614: FutureWarning: is_sparse is deprecated and will be removed in a future version. Check `isinstance(dtype, pd.SparseDtype)` instead.\n",
      "  if is_sparse(pd_dtype) or not is_extension_array_dtype(pd_dtype):\n",
      "C:\\ProgramData\\anaconda3\\lib\\site-packages\\sklearn\\utils\\validation.py:605: FutureWarning: is_sparse is deprecated and will be removed in a future version. Check `isinstance(dtype, pd.SparseDtype)` instead.\n",
      "  if is_sparse(pd_dtype):\n",
      "C:\\ProgramData\\anaconda3\\lib\\site-packages\\sklearn\\utils\\validation.py:614: FutureWarning: is_sparse is deprecated and will be removed in a future version. Check `isinstance(dtype, pd.SparseDtype)` instead.\n",
      "  if is_sparse(pd_dtype) or not is_extension_array_dtype(pd_dtype):\n",
      "C:\\ProgramData\\anaconda3\\lib\\site-packages\\sklearn\\utils\\validation.py:767: FutureWarning: is_sparse is deprecated and will be removed in a future version. Check `isinstance(dtype, pd.SparseDtype)` instead.\n",
      "  if not hasattr(array, \"sparse\") and array.dtypes.apply(is_sparse).any():\n",
      "C:\\ProgramData\\anaconda3\\lib\\site-packages\\sklearn\\utils\\validation.py:605: FutureWarning: is_sparse is deprecated and will be removed in a future version. Check `isinstance(dtype, pd.SparseDtype)` instead.\n",
      "  if is_sparse(pd_dtype):\n",
      "C:\\ProgramData\\anaconda3\\lib\\site-packages\\sklearn\\utils\\validation.py:614: FutureWarning: is_sparse is deprecated and will be removed in a future version. Check `isinstance(dtype, pd.SparseDtype)` instead.\n",
      "  if is_sparse(pd_dtype) or not is_extension_array_dtype(pd_dtype):\n"
     ]
    }
   ],
   "source": [
    "# Handle outliers if necessary (using z-score, IQR, or domain knowledge)\n",
    "# Example: Remove outliers using z-score\n",
    "z_scores = np.abs(stats.zscore(data))\n",
    "data = data[(z_scores < 3).all(axis=1)]\n",
    "\n",
    "# Split the dataset into features (X) and target variable (y)\n",
    "X = data.drop('target', axis=1)\n",
    "y = data['target']\n",
    "\n",
    "# Split the dataset into training and testing sets\n",
    "X_train, X_test, y_train, y_test = train_test_split(X, y, test_size=0.2, random_state=42)\n",
    "\n",
    "# Create and train the Linear Regression model\n",
    "linear_reg_model = LinearRegression()\n",
    "linear_reg_model.fit(X_train, y_train)\n",
    "\n",
    "# Make predictions on the testing set\n",
    "y_pred_linear = linear_reg_model.predict(X_test)"
   ]
  },
  {
   "cell_type": "code",
   "execution_count": 13,
   "id": "f0a10584",
   "metadata": {},
   "outputs": [
    {
     "name": "stdout",
     "output_type": "stream",
     "text": [
      "Mean Squared Error (Linear Regression): 0.4233879658555968\n",
      "R2 Score (Linear Regression): 0.6511226269030281\n"
     ]
    },
    {
     "name": "stderr",
     "output_type": "stream",
     "text": [
      "C:\\ProgramData\\anaconda3\\lib\\site-packages\\sklearn\\utils\\validation.py:605: FutureWarning: is_sparse is deprecated and will be removed in a future version. Check `isinstance(dtype, pd.SparseDtype)` instead.\n",
      "  if is_sparse(pd_dtype):\n",
      "C:\\ProgramData\\anaconda3\\lib\\site-packages\\sklearn\\utils\\validation.py:614: FutureWarning: is_sparse is deprecated and will be removed in a future version. Check `isinstance(dtype, pd.SparseDtype)` instead.\n",
      "  if is_sparse(pd_dtype) or not is_extension_array_dtype(pd_dtype):\n",
      "C:\\ProgramData\\anaconda3\\lib\\site-packages\\sklearn\\utils\\validation.py:605: FutureWarning: is_sparse is deprecated and will be removed in a future version. Check `isinstance(dtype, pd.SparseDtype)` instead.\n",
      "  if is_sparse(pd_dtype):\n",
      "C:\\ProgramData\\anaconda3\\lib\\site-packages\\sklearn\\utils\\validation.py:614: FutureWarning: is_sparse is deprecated and will be removed in a future version. Check `isinstance(dtype, pd.SparseDtype)` instead.\n",
      "  if is_sparse(pd_dtype) or not is_extension_array_dtype(pd_dtype):\n"
     ]
    }
   ],
   "source": [
    "# Evaluate the model's performance\n",
    "mse_linear = mean_squared_error(y_test, y_pred_linear)\n",
    "r2_linear = r2_score(y_test, y_pred_linear)\n",
    "\n",
    "print(f'Mean Squared Error (Linear Regression): {mse_linear}')\n",
    "print(f'R2 Score (Linear Regression): {r2_linear}')"
   ]
  },
  {
   "cell_type": "code",
   "execution_count": 10,
   "id": "b0f054e9",
   "metadata": {},
   "outputs": [
    {
     "name": "stdout",
     "output_type": "stream",
     "text": [
      "124/124 [==============================] - 0s 617us/step\n"
     ]
    }
   ],
   "source": [
    "import tensorflow as tf\n",
    "from tensorflow.keras.models import Sequential\n",
    "from tensorflow.keras.layers import Dense\n",
    "\n",
    "# Create and train the ANN model\n",
    "ann_model = Sequential()\n",
    "ann_model.add(Dense(64, input_dim=X_train.shape[1], activation='relu'))\n",
    "ann_model.add(Dense(1, activation='linear'))\n",
    "\n",
    "ann_model.compile(optimizer='adam', loss='mean_squared_error')\n",
    "ann_model.fit(X_train, y_train, epochs=50, batch_size=32, validation_data=(X_test, y_test), verbose=0)\n",
    "\n",
    "# Make predictions on the testing set\n",
    "y_pred_ann = ann_model.predict(X_test)"
   ]
  },
  {
   "cell_type": "code",
   "execution_count": 11,
   "id": "eed3b0a1",
   "metadata": {},
   "outputs": [
    {
     "name": "stdout",
     "output_type": "stream",
     "text": [
      "Mean Squared Error (ANN): 2.23415928865687\n",
      "R2 Score (ANN): -0.8123160782512704\n"
     ]
    },
    {
     "name": "stderr",
     "output_type": "stream",
     "text": [
      "C:\\ProgramData\\anaconda3\\lib\\site-packages\\sklearn\\utils\\validation.py:605: FutureWarning: is_sparse is deprecated and will be removed in a future version. Check `isinstance(dtype, pd.SparseDtype)` instead.\n",
      "  if is_sparse(pd_dtype):\n",
      "C:\\ProgramData\\anaconda3\\lib\\site-packages\\sklearn\\utils\\validation.py:614: FutureWarning: is_sparse is deprecated and will be removed in a future version. Check `isinstance(dtype, pd.SparseDtype)` instead.\n",
      "  if is_sparse(pd_dtype) or not is_extension_array_dtype(pd_dtype):\n",
      "C:\\ProgramData\\anaconda3\\lib\\site-packages\\sklearn\\utils\\validation.py:605: FutureWarning: is_sparse is deprecated and will be removed in a future version. Check `isinstance(dtype, pd.SparseDtype)` instead.\n",
      "  if is_sparse(pd_dtype):\n",
      "C:\\ProgramData\\anaconda3\\lib\\site-packages\\sklearn\\utils\\validation.py:614: FutureWarning: is_sparse is deprecated and will be removed in a future version. Check `isinstance(dtype, pd.SparseDtype)` instead.\n",
      "  if is_sparse(pd_dtype) or not is_extension_array_dtype(pd_dtype):\n"
     ]
    }
   ],
   "source": [
    "# Evaluate the model's performance\n",
    "mse_ann = mean_squared_error(y_test, y_pred_ann)\n",
    "r2_ann = r2_score(y_test, y_pred_ann)\n",
    "\n",
    "print(f'Mean Squared Error (ANN): {mse_ann}')\n",
    "print(f'R2 Score (ANN): {r2_ann}')\n"
   ]
  },
  {
   "cell_type": "code",
   "execution_count": 9,
   "id": "b2a25290",
   "metadata": {},
   "outputs": [
    {
     "name": "stdout",
     "output_type": "stream",
     "text": [
      "Linear Regression Metrics:\n",
      "Mean Squared Error: 0.473101625442082\n",
      "R2 Score: 0.6162271478185639\n",
      "\n",
      "ANN Metrics:\n",
      "Mean Squared Error: 0.5288036782800272\n",
      "R2 Score: 0.5710424886663068\n"
     ]
    }
   ],
   "source": [
    "# Compare the performance metrics\n",
    "print('Linear Regression Metrics:')\n",
    "print(f'Mean Squared Error: {mse_linear}')\n",
    "print(f'R2 Score: {r2_linear}')\n",
    "print('\\nANN Metrics:')\n",
    "print(f'Mean Squared Error: {mse_ann}')\n",
    "print(f'R2 Score: {r2_ann}')\n"
   ]
  },
  {
   "cell_type": "code",
   "execution_count": 8,
   "id": "09ff1382",
   "metadata": {
    "scrolled": true
   },
   "outputs": [
    {
     "data": {
      "image/png": "[encoded data removed]",
      "text/plain": [
       "<Figure size 640x480 with 1 Axes>"
      ]
     },
     "metadata": {},
     "output_type": "display_data"
    }
   ],
   "source": [
    "# Visualization: Create scatter plots or line plots to compare predicted vs actual values\n",
    "\n",
    "import matplotlib.pyplot as plt\n",
    "\n",
    "plt.scatter(y_test, y_pred_linear, label='Linear Regression')\n",
    "plt.scatter(y_test, y_pred_ann, label='ANN')\n",
    "plt.xlabel('Actual Values')\n",
    "plt.ylabel('Predicted Values')\n",
    "plt.legend()\n",
    "plt.show()"
   ]
  },
  {
   "cell_type": "code",
   "execution_count": null,
   "id": "402d79a6",
   "metadata": {},
   "outputs": [],
   "source": []
  },
  {
   "cell_type": "markdown",
   "id": "ea8bc44a",
   "metadata": {},
   "source": [
    "### Conclusion:\n",
    "\n",
    "#### Key Findings:\n",
    "\n",
    "1. **Data Preprocessing:**\n",
    "   - The California Housing dataset was explored, and basic statistics were examined.\n",
    "   - Missing values were checked, and outliers were handled using the z-score method.\n",
    "   - The dataset was split into training and testing sets.\n",
    "\n",
    "2. **Linear Regression:**\n",
    "   - A Linear Regression model was implemented using scikit-learn.\n",
    "   - The model was trained on the training set, and predictions were made on the testing set.\n",
    "   - Performance metrics, such as Mean Squared Error (MSE) and R2 Score, were used to evaluate the model.\n",
    "\n",
    "3. **Artificial Neural Network (ANN):**\n",
    "   - A simple ANN for regression was implemented using TensorFlow/Keras.\n",
    "   - The ANN's architecture included an input layer with 64 neurons and a ReLU activation function, and an output layer with one neuron and a linear activation function.\n",
    "   - The model was trained on the training set, and predictions were made on the testing set.\n",
    "   - Similar performance metrics (MSE and R2 Score) were used to evaluate the ANN.\n",
    "\n",
    "4. **Comparison and Analysis:**\n",
    "   - Performance metrics of Linear Regression and ANN were compared.\n",
    "   - Strengths and weaknesses of each model were discussed. Linear Regression is simple and interpretable, while ANN is more complex and can capture non-linear patterns.\n",
    "   - The trade-off between model simplicity and complexity was considered.\n",
    "\n",
    "5. **Visualization:**\n",
    "   - Scatter plots were created to compare predicted values of Linear Regression and ANN with actual values.\n"
   ]
  },
  {
   "cell_type": "markdown",
   "id": "08382f39",
   "metadata": {},
   "source": [
    "#### Linear Regression Metrics:\n",
    "   - Mean Squared Error (Linear Regression): 0.4234\n",
    "   - R2 Score (Linear Regression): 0.6511\n",
    "\n",
    "#### ANN Metrics:\n",
    "   - Mean Squared Error (ANN): 2.2342\n",
    "   - R2 Score (ANN): -0.8123\n",
    "\n",
    "### Insights:\n",
    "\n",
    "1. **Linear Regression:**\n",
    "   - The Linear Regression model performed well with a relatively low Mean Squared Error (MSE) of 0.4234.\n",
    "   - The R2 Score of 0.6511 indicates a good fit of the model to the data.\n",
    "\n",
    "2. **Artificial Neural Network (ANN):**\n",
    "   - The ANN, on the other hand, exhibited higher Mean Squared Error (2.2342) and a negative R2 Score (-0.8123).\n",
    "   - The negative R2 Score suggests that the ANN model did not fit the data well.\n",
    "\n",
    "3. **Comparison:**\n",
    "   - In this specific case, the simpler Linear Regression model outperformed the more complex ANN in terms of predictive performance.\n",
    "   - The negative R2 Score for the ANN indicates that the model did not capture the variance in the target variable effectively.\n",
    "\n",
    "### Challenges:\n",
    "\n",
    "1. **Model Tuning:**\n",
    "   - The hyperparameters of the ANN, such as the number of neurons and layers, might need further tuning. The current architecture may not be optimal for this dataset.\n",
    "\n",
    "2. **Overfitting:**\n",
    "   - The ANN may suffer from overfitting, leading to poor generalization on the testing set. Regularization techniques or adjusting the model architecture may address this.\n",
    "\n",
    "3. **Data Characteristics:**\n",
    "   - The dataset may not contain complex patterns that can be effectively captured by the complexity of the ANN. Understanding the nature of the data is crucial for choosing an appropriate model.\n",
    "\n",
    "### Conclusion:\n",
    "\n",
    "While the ANN has the potential to capture intricate patterns, its current performance, as indicated by the provided metrics, falls short compared to the simplicity of Linear Regression in this context. Further refinement of the ANN's architecture, regularization, and a deeper understanding of the dataset characteristics may lead to improved results."
   ]
  },
  {
   "cell_type": "code",
   "execution_count": null,
   "id": "a984904d",
   "metadata": {},
   "outputs": [],
   "source": []
  }
 ],
 "metadata": {
  "kernelspec": {
   "display_name": "Python 3 (ipykernel)",
   "language": "python",
   "name": "python3"
  },
  "language_info": {
   "codemirror_mode": {
    "name": "ipython",
    "version": 3
   },
   "file_extension": ".py",
   "mimetype": "text/x-python",
   "name": "python",
   "nbconvert_exporter": "python",
   "pygments_lexer": "ipython3",
   "version": "3.10.9"
  }
 },
 "nbformat": 4,
 "nbformat_minor": 5
}
